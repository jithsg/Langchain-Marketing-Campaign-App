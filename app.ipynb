{
 "cells": [
  {
   "cell_type": "code",
   "execution_count": 4,
   "metadata": {},
   "outputs": [
    {
     "data": {
      "text/plain": [
       "True"
      ]
     },
     "execution_count": 4,
     "metadata": {},
     "output_type": "execute_result"
    }
   ],
   "source": [
    "import os\n",
    "import openai\n",
    "from dotenv import load_dotenv\n",
    "from langchain.prompts import PromptTemplate\n",
    "from langchain import FewShotPromptTemplate\n",
    "\n",
    "# Load the environment variables from .env file\n",
    "load_dotenv()"
   ]
  },
  {
   "cell_type": "code",
   "execution_count": 2,
   "metadata": {},
   "outputs": [],
   "source": [
    "openai_api_key = os.getenv('OPENAI_API_KEY')\n",
    "openai.api_key = openai_api_key"
   ]
  },
  {
   "cell_type": "code",
   "execution_count": 16,
   "metadata": {},
   "outputs": [],
   "source": [
    "from langchain.llms import OpenAI\n",
    "llm= OpenAI(temperature=0.5, model = \"text-davinci-003\")"
   ]
  },
  {
   "cell_type": "code",
   "execution_count": 30,
   "metadata": {},
   "outputs": [],
   "source": [
    "our_prompt = \"\"\"\n",
    "You are a 5 cute year old girl:\n",
    "Here as some examples:\n",
    "\n",
    "Question: What is a house?\n",
    "Answer: People live in a house.\n",
    "\n",
    "Question: What is a car?\n",
    "Answer: People drive a car.\n",
    "\n",
    "Question: What is a dog?\n",
    "Answer: People pet a dog.\n",
    "\n",
    "Question: What is a cat?\n",
    "Answer: \n",
    "\"\"\""
   ]
  },
  {
   "cell_type": "code",
   "execution_count": 32,
   "metadata": {},
   "outputs": [],
   "source": [
    "examples= [{\"query\": \"What is a house?\", \"response\": \"People live in a house.\"},\n",
    "           {\"query\":\"What is a car?\", \"response\": \"People drive a car.\"},\n",
    "           {\"query\": \"What is a dog?\", \"response\": \"People pet a dog.\"}]"
   ]
  },
  {
   "cell_type": "code",
   "execution_count": 33,
   "metadata": {},
   "outputs": [
    {
     "data": {
      "text/plain": [
       "'People pet a cat.'"
      ]
     },
     "execution_count": 33,
     "metadata": {},
     "output_type": "execute_result"
    }
   ],
   "source": [
    "llm(our_prompt)"
   ]
  },
  {
   "cell_type": "code",
   "execution_count": 34,
   "metadata": {},
   "outputs": [],
   "source": [
    "prefix= \"\"\"\n",
    "You are a 5 cute year old girl:\n",
    "Here as some examples:\n",
    "\"\"\"\n",
    "suffix = \"\"\"\n",
    "Question: What is a {userInput}?\n",
    "Answer: \n",
    "\"\"\""
   ]
  },
  {
   "cell_type": "code",
   "execution_count": 42,
   "metadata": {},
   "outputs": [],
   "source": [
    "example_template =\"\"\"\n",
    "Question: {query}\n",
    "Answer: {response}\n",
    "\"\"\""
   ]
  },
  {
   "cell_type": "code",
   "execution_count": 43,
   "metadata": {},
   "outputs": [],
   "source": [
    "example_prompt =PromptTemplate(\n",
    "    template=example_template,\n",
    "    input_variables=['query', 'response']\n",
    ")"
   ]
  },
  {
   "cell_type": "code",
   "execution_count": 45,
   "metadata": {},
   "outputs": [],
   "source": [
    "few_shot_prompt_template = FewShotPromptTemplate(\n",
    "    examples= examples,\n",
    "    example_prompt=example_prompt,\n",
    "    input_variables=['userInput'],\n",
    "    prefix=prefix,\n",
    "    suffix=suffix,\n",
    "    example_separator=\"\\n\\n\"\n",
    ")\n"
   ]
  },
  {
   "cell_type": "code",
   "execution_count": 12,
   "metadata": {},
   "outputs": [
    {
     "data": {
      "text/plain": [
       "'People pet a cat.'"
      ]
     },
     "execution_count": 12,
     "metadata": {},
     "output_type": "execute_result"
    }
   ],
   "source": []
  },
  {
   "cell_type": "code",
   "execution_count": null,
   "metadata": {},
   "outputs": [],
   "source": []
  },
  {
   "cell_type": "code",
   "execution_count": 40,
   "metadata": {},
   "outputs": [],
   "source": [
    "example_template = \"\"\"\n",
    "Question: {query}\n",
    "Answer: {response}\n",
    "\"\"\""
   ]
  },
  {
   "cell_type": "code",
   "execution_count": 41,
   "metadata": {},
   "outputs": [],
   "source": [
    "example_prompt = PromptTemplate(\n",
    "    template=example_template,\n",
    "    input_variables=['query', 'answer']\n",
    ")"
   ]
  },
  {
   "cell_type": "code",
   "execution_count": 46,
   "metadata": {},
   "outputs": [
    {
     "name": "stdout",
     "output_type": "stream",
     "text": [
      "\n",
      "You are a 5 cute year old girl:\n",
      "Here as some examples:\n",
      "\n",
      "\n",
      "\n",
      "Question: What is a house?\n",
      "Answer: People live in a house.\n",
      "\n",
      "\n",
      "\n",
      "Question: What is a car?\n",
      "Answer: People drive a car.\n",
      "\n",
      "\n",
      "\n",
      "Question: What is a dog?\n",
      "Answer: People pet a dog.\n",
      "\n",
      "\n",
      "\n",
      "Question: What is a What is a cat??\n",
      "Answer: \n",
      "\n"
     ]
    }
   ],
   "source": [
    "query = \"What is a cat?\"\n",
    "print(few_shot_prompt_template.format(userInput=query))"
   ]
  },
  {
   "cell_type": "code",
   "execution_count": null,
   "metadata": {},
   "outputs": [],
   "source": []
  }
 ],
 "metadata": {
  "kernelspec": {
   "display_name": ".venv",
   "language": "python",
   "name": "python3"
  },
  "language_info": {
   "codemirror_mode": {
    "name": "ipython",
    "version": 3
   },
   "file_extension": ".py",
   "mimetype": "text/x-python",
   "name": "python",
   "nbconvert_exporter": "python",
   "pygments_lexer": "ipython3",
   "version": "3.10.8"
  }
 },
 "nbformat": 4,
 "nbformat_minor": 2
}
